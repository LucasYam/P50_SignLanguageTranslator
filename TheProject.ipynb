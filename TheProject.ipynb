{
 "cells": [
  {
   "cell_type": "code",
   "execution_count": 1,
   "metadata": {},
   "outputs": [
    {
     "name": "stdout",
     "output_type": "stream",
     "text": [
      "Requirement already satisfied: tensorflow in /Users/clariceliu/opt/anaconda3/lib/python3.8/site-packages (1.12.0)\n",
      "Requirement already satisfied: opencv-python in /Users/clariceliu/opt/anaconda3/lib/python3.8/site-packages (4.5.4.60)\n",
      "Requirement already satisfied: mediapipe in /Users/clariceliu/opt/anaconda3/lib/python3.8/site-packages (0.8.9.1)\n",
      "Requirement already satisfied: sklearn in /Users/clariceliu/opt/anaconda3/lib/python3.8/site-packages (0.0)\n",
      "Requirement already satisfied: matplotlib in /Users/clariceliu/opt/anaconda3/lib/python3.8/site-packages (3.3.2)\n",
      "Requirement already satisfied: jupyter in /Users/clariceliu/opt/anaconda3/lib/python3.8/site-packages (1.0.0)\n",
      "Requirement already satisfied: six>=1.10.0 in /Users/clariceliu/opt/anaconda3/lib/python3.8/site-packages (from tensorflow) (1.15.0)\n",
      "Requirement already satisfied: numpy>=1.13.3 in /Users/clariceliu/opt/anaconda3/lib/python3.8/site-packages (from tensorflow) (1.19.2)\n",
      "Requirement already satisfied: termcolor>=1.1.0 in /Users/clariceliu/opt/anaconda3/lib/python3.8/site-packages (from tensorflow) (1.1.0)\n",
      "Requirement already satisfied: grpcio>=1.8.6 in /Users/clariceliu/opt/anaconda3/lib/python3.8/site-packages (from tensorflow) (1.41.0)\n",
      "Requirement already satisfied: absl-py>=0.1.6 in /Users/clariceliu/opt/anaconda3/lib/python3.8/site-packages (from tensorflow) (0.14.1)\n",
      "Requirement already satisfied: astor>=0.6.0 in /Users/clariceliu/opt/anaconda3/lib/python3.8/site-packages (from tensorflow) (0.8.1)\n",
      "Requirement already satisfied: keras-preprocessing>=1.0.5 in /Users/clariceliu/opt/anaconda3/lib/python3.8/site-packages (from tensorflow) (1.1.2)\n",
      "Requirement already satisfied: protobuf>=3.6.1 in /Users/clariceliu/opt/anaconda3/lib/python3.8/site-packages (from tensorflow) (3.18.0)\n",
      "Requirement already satisfied: tensorboard<1.13.0,>=1.12.0 in /Users/clariceliu/opt/anaconda3/lib/python3.8/site-packages (from tensorflow) (1.12.2)\n",
      "Requirement already satisfied: wheel>=0.26 in /Users/clariceliu/opt/anaconda3/lib/python3.8/site-packages (from tensorflow) (0.35.1)\n",
      "Requirement already satisfied: gast>=0.2.0 in /Users/clariceliu/opt/anaconda3/lib/python3.8/site-packages (from tensorflow) (0.5.2)\n",
      "Requirement already satisfied: keras-applications>=1.0.6 in /Users/clariceliu/opt/anaconda3/lib/python3.8/site-packages (from tensorflow) (1.0.8)\n",
      "Requirement already satisfied: opencv-contrib-python in /Users/clariceliu/opt/anaconda3/lib/python3.8/site-packages (from mediapipe) (4.5.4.60)\n",
      "Requirement already satisfied: attrs>=19.1.0 in /Users/clariceliu/opt/anaconda3/lib/python3.8/site-packages (from mediapipe) (20.3.0)\n",
      "Requirement already satisfied: scikit-learn in /Users/clariceliu/opt/anaconda3/lib/python3.8/site-packages (from sklearn) (0.23.2)\n",
      "Requirement already satisfied: pyparsing!=2.0.4,!=2.1.2,!=2.1.6,>=2.0.3 in /Users/clariceliu/opt/anaconda3/lib/python3.8/site-packages (from matplotlib) (2.4.7)\n",
      "Requirement already satisfied: python-dateutil>=2.1 in /Users/clariceliu/opt/anaconda3/lib/python3.8/site-packages (from matplotlib) (2.8.1)\n",
      "Requirement already satisfied: pillow>=6.2.0 in /Users/clariceliu/opt/anaconda3/lib/python3.8/site-packages (from matplotlib) (8.0.1)\n",
      "Requirement already satisfied: cycler>=0.10 in /Users/clariceliu/opt/anaconda3/lib/python3.8/site-packages (from matplotlib) (0.10.0)\n",
      "Requirement already satisfied: kiwisolver>=1.0.1 in /Users/clariceliu/opt/anaconda3/lib/python3.8/site-packages (from matplotlib) (1.3.0)\n",
      "Requirement already satisfied: certifi>=2020.06.20 in /Users/clariceliu/opt/anaconda3/lib/python3.8/site-packages (from matplotlib) (2020.6.20)\n",
      "Requirement already satisfied: jupyter-console in /Users/clariceliu/opt/anaconda3/lib/python3.8/site-packages (from jupyter) (6.2.0)\n",
      "Requirement already satisfied: notebook in /Users/clariceliu/opt/anaconda3/lib/python3.8/site-packages (from jupyter) (6.1.4)\n",
      "Requirement already satisfied: qtconsole in /Users/clariceliu/opt/anaconda3/lib/python3.8/site-packages (from jupyter) (4.7.7)\n",
      "Requirement already satisfied: nbconvert in /Users/clariceliu/opt/anaconda3/lib/python3.8/site-packages (from jupyter) (6.0.7)\n",
      "Requirement already satisfied: ipywidgets in /Users/clariceliu/opt/anaconda3/lib/python3.8/site-packages (from jupyter) (7.5.1)\n",
      "Requirement already satisfied: ipykernel in /Users/clariceliu/opt/anaconda3/lib/python3.8/site-packages (from jupyter) (5.3.4)\n",
      "Requirement already satisfied: werkzeug>=0.11.10 in /Users/clariceliu/opt/anaconda3/lib/python3.8/site-packages (from tensorboard<1.13.0,>=1.12.0->tensorflow) (1.0.1)\n",
      "Requirement already satisfied: markdown>=2.6.8 in /Users/clariceliu/opt/anaconda3/lib/python3.8/site-packages (from tensorboard<1.13.0,>=1.12.0->tensorflow) (3.3.4)\n",
      "Requirement already satisfied: h5py in /Users/clariceliu/opt/anaconda3/lib/python3.8/site-packages (from keras-applications>=1.0.6->tensorflow) (2.10.0)\n",
      "Requirement already satisfied: threadpoolctl>=2.0.0 in /Users/clariceliu/opt/anaconda3/lib/python3.8/site-packages (from scikit-learn->sklearn) (2.1.0)\n",
      "Requirement already satisfied: scipy>=0.19.1 in /Users/clariceliu/opt/anaconda3/lib/python3.8/site-packages (from scikit-learn->sklearn) (1.5.2)\n",
      "Requirement already satisfied: joblib>=0.11 in /Users/clariceliu/opt/anaconda3/lib/python3.8/site-packages (from scikit-learn->sklearn) (0.17.0)\n",
      "Requirement already satisfied: ipython in /Users/clariceliu/opt/anaconda3/lib/python3.8/site-packages (from jupyter-console->jupyter) (7.19.0)\n",
      "Requirement already satisfied: jupyter-client in /Users/clariceliu/opt/anaconda3/lib/python3.8/site-packages (from jupyter-console->jupyter) (6.1.7)\n",
      "Requirement already satisfied: pygments in /Users/clariceliu/opt/anaconda3/lib/python3.8/site-packages (from jupyter-console->jupyter) (2.7.2)\n",
      "Requirement already satisfied: prompt-toolkit!=3.0.0,!=3.0.1,<3.1.0,>=2.0.0 in /Users/clariceliu/opt/anaconda3/lib/python3.8/site-packages (from jupyter-console->jupyter) (3.0.8)\n",
      "Requirement already satisfied: nbformat in /Users/clariceliu/opt/anaconda3/lib/python3.8/site-packages (from notebook->jupyter) (5.0.8)\n",
      "Requirement already satisfied: prometheus-client in /Users/clariceliu/opt/anaconda3/lib/python3.8/site-packages (from notebook->jupyter) (0.8.0)\n",
      "Requirement already satisfied: Send2Trash in /Users/clariceliu/opt/anaconda3/lib/python3.8/site-packages (from notebook->jupyter) (1.5.0)\n",
      "Requirement already satisfied: ipython-genutils in /Users/clariceliu/opt/anaconda3/lib/python3.8/site-packages (from notebook->jupyter) (0.2.0)\n",
      "Requirement already satisfied: tornado>=5.0 in /Users/clariceliu/opt/anaconda3/lib/python3.8/site-packages (from notebook->jupyter) (6.0.4)\n",
      "Requirement already satisfied: traitlets>=4.2.1 in /Users/clariceliu/opt/anaconda3/lib/python3.8/site-packages (from notebook->jupyter) (5.0.5)\n",
      "Requirement already satisfied: jupyter-core>=4.6.1 in /Users/clariceliu/opt/anaconda3/lib/python3.8/site-packages (from notebook->jupyter) (4.6.3)\n",
      "Requirement already satisfied: terminado>=0.8.3 in /Users/clariceliu/opt/anaconda3/lib/python3.8/site-packages (from notebook->jupyter) (0.9.1)\n",
      "Requirement already satisfied: argon2-cffi in /Users/clariceliu/opt/anaconda3/lib/python3.8/site-packages (from notebook->jupyter) (20.1.0)\n",
      "Requirement already satisfied: pyzmq>=17 in /Users/clariceliu/opt/anaconda3/lib/python3.8/site-packages (from notebook->jupyter) (19.0.2)\n",
      "Requirement already satisfied: jinja2 in /Users/clariceliu/opt/anaconda3/lib/python3.8/site-packages (from notebook->jupyter) (2.11.2)\n",
      "Requirement already satisfied: qtpy in /Users/clariceliu/opt/anaconda3/lib/python3.8/site-packages (from qtconsole->jupyter) (1.9.0)\n",
      "Requirement already satisfied: bleach in /Users/clariceliu/opt/anaconda3/lib/python3.8/site-packages (from nbconvert->jupyter) (3.2.1)\n",
      "Requirement already satisfied: jupyterlab-pygments in /Users/clariceliu/opt/anaconda3/lib/python3.8/site-packages (from nbconvert->jupyter) (0.1.2)\n",
      "Requirement already satisfied: pandocfilters>=1.4.1 in /Users/clariceliu/opt/anaconda3/lib/python3.8/site-packages (from nbconvert->jupyter) (1.4.3)\n",
      "Requirement already satisfied: testpath in /Users/clariceliu/opt/anaconda3/lib/python3.8/site-packages (from nbconvert->jupyter) (0.4.4)\n",
      "Requirement already satisfied: entrypoints>=0.2.2 in /Users/clariceliu/opt/anaconda3/lib/python3.8/site-packages (from nbconvert->jupyter) (0.3)\n",
      "Requirement already satisfied: nbclient<0.6.0,>=0.5.0 in /Users/clariceliu/opt/anaconda3/lib/python3.8/site-packages (from nbconvert->jupyter) (0.5.1)\n",
      "Requirement already satisfied: mistune<2,>=0.8.1 in /Users/clariceliu/opt/anaconda3/lib/python3.8/site-packages (from nbconvert->jupyter) (0.8.4)\n",
      "Requirement already satisfied: defusedxml in /Users/clariceliu/opt/anaconda3/lib/python3.8/site-packages (from nbconvert->jupyter) (0.6.0)\n",
      "Requirement already satisfied: widgetsnbextension~=3.5.0 in /Users/clariceliu/opt/anaconda3/lib/python3.8/site-packages (from ipywidgets->jupyter) (3.5.1)\n",
      "Requirement already satisfied: appnope; platform_system == \"Darwin\" in /Users/clariceliu/opt/anaconda3/lib/python3.8/site-packages (from ipykernel->jupyter) (0.1.0)\n",
      "Requirement already satisfied: decorator in /Users/clariceliu/opt/anaconda3/lib/python3.8/site-packages (from ipython->jupyter-console->jupyter) (4.4.2)\n",
      "Requirement already satisfied: backcall in /Users/clariceliu/opt/anaconda3/lib/python3.8/site-packages (from ipython->jupyter-console->jupyter) (0.2.0)\n",
      "Requirement already satisfied: jedi>=0.10 in /Users/clariceliu/opt/anaconda3/lib/python3.8/site-packages (from ipython->jupyter-console->jupyter) (0.17.1)\n",
      "Requirement already satisfied: pexpect>4.3; sys_platform != \"win32\" in /Users/clariceliu/opt/anaconda3/lib/python3.8/site-packages (from ipython->jupyter-console->jupyter) (4.8.0)\n",
      "Requirement already satisfied: pickleshare in /Users/clariceliu/opt/anaconda3/lib/python3.8/site-packages (from ipython->jupyter-console->jupyter) (0.7.5)\n",
      "Requirement already satisfied: setuptools>=18.5 in /Users/clariceliu/opt/anaconda3/lib/python3.8/site-packages (from ipython->jupyter-console->jupyter) (50.3.1.post20201107)\n",
      "Requirement already satisfied: wcwidth in /Users/clariceliu/opt/anaconda3/lib/python3.8/site-packages (from prompt-toolkit!=3.0.0,!=3.0.1,<3.1.0,>=2.0.0->jupyter-console->jupyter) (0.2.5)\n",
      "Requirement already satisfied: jsonschema!=2.5.0,>=2.4 in /Users/clariceliu/opt/anaconda3/lib/python3.8/site-packages (from nbformat->notebook->jupyter) (3.2.0)\n",
      "Requirement already satisfied: ptyprocess in /Users/clariceliu/opt/anaconda3/lib/python3.8/site-packages (from terminado>=0.8.3->notebook->jupyter) (0.6.0)\n",
      "Requirement already satisfied: cffi>=1.0.0 in /Users/clariceliu/opt/anaconda3/lib/python3.8/site-packages (from argon2-cffi->notebook->jupyter) (1.14.3)\n",
      "Requirement already satisfied: MarkupSafe>=0.23 in /Users/clariceliu/opt/anaconda3/lib/python3.8/site-packages (from jinja2->notebook->jupyter) (1.1.1)\n",
      "Requirement already satisfied: packaging in /Users/clariceliu/opt/anaconda3/lib/python3.8/site-packages (from bleach->nbconvert->jupyter) (20.4)\n",
      "Requirement already satisfied: webencodings in /Users/clariceliu/opt/anaconda3/lib/python3.8/site-packages (from bleach->nbconvert->jupyter) (0.5.1)\n",
      "Requirement already satisfied: async-generator in /Users/clariceliu/opt/anaconda3/lib/python3.8/site-packages (from nbclient<0.6.0,>=0.5.0->nbconvert->jupyter) (1.10)\n",
      "Requirement already satisfied: nest-asyncio in /Users/clariceliu/opt/anaconda3/lib/python3.8/site-packages (from nbclient<0.6.0,>=0.5.0->nbconvert->jupyter) (1.4.2)\n",
      "Requirement already satisfied: parso<0.8.0,>=0.7.0 in /Users/clariceliu/opt/anaconda3/lib/python3.8/site-packages (from jedi>=0.10->ipython->jupyter-console->jupyter) (0.7.0)\n",
      "Requirement already satisfied: pyrsistent>=0.14.0 in /Users/clariceliu/opt/anaconda3/lib/python3.8/site-packages (from jsonschema!=2.5.0,>=2.4->nbformat->notebook->jupyter) (0.17.3)\n",
      "Requirement already satisfied: pycparser in /Users/clariceliu/opt/anaconda3/lib/python3.8/site-packages (from cffi>=1.0.0->argon2-cffi->notebook->jupyter) (2.20)\n"
     ]
    }
   ],
   "source": [
    "!pip install tensorflow opencv-python mediapipe sklearn matplotlib jupyter"
   ]
  },
  {
   "cell_type": "code",
   "execution_count": 2,
   "metadata": {},
   "outputs": [],
   "source": [
    "import cv2\n",
    "import numpy as np\n",
    "import os\n",
    "os.environ['KMP_DUPLICATE_LTBL_OK']='True'\n",
    "import time\n",
    "import mediapipe as mp\n",
    "from matplotlib import pyplot as plt"
   ]
  },
  {
   "cell_type": "code",
   "execution_count": 3,
   "metadata": {},
   "outputs": [],
   "source": [
    "mp_holistic = mp.solutions.holistic\n",
    "mp_drawing = mp.solutions.drawing_utils"
   ]
  },
  {
   "cell_type": "code",
   "execution_count": 4,
   "metadata": {},
   "outputs": [],
   "source": [
    "def media_pipe_detection(image, model):\n",
    "    image = cv2.cvtColor(image, cv2.COLOR_BGR2RGB)\n",
    "    image.flags.writeable = False\n",
    "    results = model.process(image)\n",
    "    image.flags.writeable = True\n",
    "    image = cv2.cvtColor(image, cv2.COLOR_RGB2BGR)\n",
    "    return image, results"
   ]
  },
  {
   "cell_type": "code",
   "execution_count": 5,
   "metadata": {},
   "outputs": [],
   "source": [
    "def draw_landmarks(image, results):\n",
    "    #mp_drawing.draw_landmarks(image, results.face_landmarks, mp_holistic.FACEMESH_CONTOURS, mp_drawing.DrawingSpec(color=(0,0,0), thickness=2, circle_radius=1), mp_drawing.DrawingSpec(color=(0,0,0), thickness=2, circle_radius=1))\n",
    "    #mp_drawing.draw_landmarks(image, results.pose_landmarks, mp_holistic.POSE_CONNECTIONS, mp_drawing.DrawingSpec(color=(0,0,0), thickness=2, circle_radius=1), mp_drawing.DrawingSpec(color=(0,0,0), thickness=2, circle_radius=1))\n",
    "    mp_drawing.draw_landmarks(image, results.left_hand_landmarks, mp_holistic.HAND_CONNECTIONS, mp_drawing.DrawingSpec(color=(0,0,0), thickness=2, circle_radius=1), mp_drawing.DrawingSpec(color=(0,0,0), thickness=2, circle_radius=1))\n",
    "    mp_drawing.draw_landmarks(image, results.right_hand_landmarks, mp_holistic.HAND_CONNECTIONS, mp_drawing.DrawingSpec(color=(0,0,0), thickness=2, circle_radius=1), mp_drawing.DrawingSpec(color=(0,0,0), thickness=2, circle_radius=1))"
   ]
  },
  {
   "cell_type": "code",
   "execution_count": 6,
   "metadata": {},
   "outputs": [],
   "source": [
    "cap = cv2.VideoCapture(0)\n",
    "\n",
    "with mp_holistic.Holistic(min_detection_confidence=0.5, min_tracking_confidence=0.5) as holistic:\n",
    "    while cap.isOpened():\n",
    "        ret, frame = cap.read()\n",
    "\n",
    "        image, results = media_pipe_detection(frame, holistic)\n",
    "        \n",
    "        draw_landmarks(image, results)\n",
    "\n",
    "        cv2.imshow('OpenCV Feed', image)\n",
    "        if cv2.waitKey(10) & 0xFF == ord('q'):\n",
    "            break\n",
    "    cap.release()\n",
    "    cv2.destroyAllWindows()"
   ]
  },
  {
   "cell_type": "code",
   "execution_count": 7,
   "metadata": {},
   "outputs": [],
   "source": [
    "def extractPoints(r):\n",
    "    rightHand = np.array([[res.x,res.y,res.z] for res in r.right_hand_landmarks.landmark]).flatten() if r.right_hand_landmarks else np.zeros(63)\n",
    "    leftHand = np.array([[res.x,res.y,res.z] for res in r.left_hand_landmarks.landmark]).flatten() if r.left_hand_landmarks else np.zeros(63)\n",
    "    return np.concatenate([rightHand, leftHand])"
   ]
  },
  {
   "cell_type": "markdown",
   "metadata": {},
   "source": [
    "# Set up folder"
   ]
  },
  {
   "cell_type": "code",
   "execution_count": 8,
   "metadata": {},
   "outputs": [],
   "source": [
    "DATA_PATH = os.path.join(\"MP_Data\")\n",
    "signs = np.array(['Me','Student','Good morning', 'Help me', 'Thank you', 'Hospital', 'Doctor'])\n",
    "sqs = 50\n",
    "sqLength = 30"
   ]
  },
  {
   "cell_type": "code",
   "execution_count": 9,
   "metadata": {},
   "outputs": [],
   "source": [
    "for sign in signs:\n",
    "    for sq in range(sqs):\n",
    "        try:\n",
    "            os.makedirs(os.path.join(DATA_PATH, sign, str(sq)))\n",
    "        except:\n",
    "            pass"
   ]
  },
  {
   "cell_type": "code",
   "execution_count": 10,
   "metadata": {},
   "outputs": [],
   "source": [
    "cap = cv2.VideoCapture(0)\n",
    "\n",
    "with mp_holistic.Holistic(min_detection_confidence=0.5, min_tracking_confidence=0.5) as holistic:\n",
    "    for sign in signs:\n",
    "        for sq in range(sqs):\n",
    "            for frameNum in range(sqLength):\n",
    "                npyPath = os.path.join(DATA_PATH, sign, str(sq), str(frameNum))\n",
    "                \n",
    "                if os.path.isfile(npyPath + \".npy\"):\n",
    "                    break\n",
    "\n",
    "                ret, frame = cap.read()\n",
    "\n",
    "                image, results = media_pipe_detection(frame, holistic)\n",
    "\n",
    "                draw_landmarks(image, results)\n",
    "                \n",
    "                if frameNum == 0:\n",
    "                    cv2.putText(image, \"Start collection\", (120,200), cv2.FONT_HERSHEY_SIMPLEX, 1, (0,255,0), 4, cv2.LINE_AA)\n",
    "                    cv2.putText(image, \"Collecting frames for {} Video Number {}\".format(sign, sq), (120,200), cv2.FONT_HERSHEY_SIMPLEX, 1, (0,255,0), 4, cv2.LINE_AA)\n",
    "                    cv2.waitKey(2000)\n",
    "                else:\n",
    "                    cv2.putText(image, \"Collecting frames for {} Video Number {}\".format(sign, sq), (120,200), cv2.FONT_HERSHEY_SIMPLEX, 1, (0,255,0), 4, cv2.LINE_AA)\n",
    "\n",
    "                points = extractPoints(results)\n",
    "                \n",
    "                np.save(npyPath, points)\n",
    "                cv2.imshow('OpenCV Feed', image)\n",
    "                \n",
    "                if cv2.waitKey(10) & 0xFF == ord('q'):\n",
    "                    break\n",
    "    cap.release()\n",
    "    cv2.destroyAllWindows()"
   ]
  },
  {
   "cell_type": "code",
   "execution_count": 11,
   "metadata": {},
   "outputs": [],
   "source": [
    "labelMap = {label:num for num, label in enumerate(signs)}"
   ]
  },
  {
   "cell_type": "code",
   "execution_count": 12,
   "metadata": {},
   "outputs": [
    {
     "data": {
      "text/plain": [
       "{'Me': 0,\n",
       " 'Student': 1,\n",
       " 'Good morning': 2,\n",
       " 'Help me': 3,\n",
       " 'Thank you': 4,\n",
       " 'Hospital': 5,\n",
       " 'Doctor': 6}"
      ]
     },
     "execution_count": 12,
     "metadata": {},
     "output_type": "execute_result"
    }
   ],
   "source": [
    "labelMap"
   ]
  },
  {
   "cell_type": "code",
   "execution_count": 13,
   "metadata": {},
   "outputs": [],
   "source": [
    "sequences, labels = [],[]\n",
    "for sign in signs:\n",
    "    for sq in range(sqs):\n",
    "        window = []\n",
    "        for frameNum in range(sqLength):\n",
    "            res = np.load(os.path.join(DATA_PATH, sign, str(sq), \"{}.npy\".format(frameNum)))\n",
    "            window.append(res)\n",
    "        sequences.append(window)\n",
    "        labels.append(labelMap[sign])"
   ]
  },
  {
   "cell_type": "code",
   "execution_count": 14,
   "metadata": {},
   "outputs": [
    {
     "name": "stderr",
     "output_type": "stream",
     "text": [
      "/Users/clariceliu/opt/anaconda3/lib/python3.8/site-packages/tensorflow/python/framework/dtypes.py:523: FutureWarning: Passing (type, 1) or '1type' as a synonym of type is deprecated; in a future version of numpy, it will be understood as (type, (1,)) / '(1,)type'.\n",
      "  _np_qint8 = np.dtype([(\"qint8\", np.int8, 1)])\n",
      "/Users/clariceliu/opt/anaconda3/lib/python3.8/site-packages/tensorflow/python/framework/dtypes.py:524: FutureWarning: Passing (type, 1) or '1type' as a synonym of type is deprecated; in a future version of numpy, it will be understood as (type, (1,)) / '(1,)type'.\n",
      "  _np_quint8 = np.dtype([(\"quint8\", np.uint8, 1)])\n",
      "/Users/clariceliu/opt/anaconda3/lib/python3.8/site-packages/tensorflow/python/framework/dtypes.py:525: FutureWarning: Passing (type, 1) or '1type' as a synonym of type is deprecated; in a future version of numpy, it will be understood as (type, (1,)) / '(1,)type'.\n",
      "  _np_qint16 = np.dtype([(\"qint16\", np.int16, 1)])\n",
      "/Users/clariceliu/opt/anaconda3/lib/python3.8/site-packages/tensorflow/python/framework/dtypes.py:526: FutureWarning: Passing (type, 1) or '1type' as a synonym of type is deprecated; in a future version of numpy, it will be understood as (type, (1,)) / '(1,)type'.\n",
      "  _np_quint16 = np.dtype([(\"quint16\", np.uint16, 1)])\n",
      "/Users/clariceliu/opt/anaconda3/lib/python3.8/site-packages/tensorflow/python/framework/dtypes.py:527: FutureWarning: Passing (type, 1) or '1type' as a synonym of type is deprecated; in a future version of numpy, it will be understood as (type, (1,)) / '(1,)type'.\n",
      "  _np_qint32 = np.dtype([(\"qint32\", np.int32, 1)])\n",
      "/Users/clariceliu/opt/anaconda3/lib/python3.8/site-packages/tensorflow/python/framework/dtypes.py:532: FutureWarning: Passing (type, 1) or '1type' as a synonym of type is deprecated; in a future version of numpy, it will be understood as (type, (1,)) / '(1,)type'.\n",
      "  np_resource = np.dtype([(\"resource\", np.ubyte, 1)])\n",
      "<frozen importlib._bootstrap>:219: RuntimeWarning: compiletime version 3.6 of module 'tensorflow.python.framework.fast_tensor_util' does not match runtime version 3.8\n",
      "<frozen importlib._bootstrap>:219: RuntimeWarning: builtins.type size changed, may indicate binary incompatibility. Expected 880, got 864\n"
     ]
    }
   ],
   "source": [
    "from sklearn.model_selection import train_test_split\n",
    "from tensorflow.keras.utils import to_categorical"
   ]
  },
  {
   "cell_type": "code",
   "execution_count": 15,
   "metadata": {},
   "outputs": [],
   "source": [
    "X = np.array(sequences)"
   ]
  },
  {
   "cell_type": "code",
   "execution_count": 16,
   "metadata": {},
   "outputs": [],
   "source": [
    "y = to_categorical(labels).astype(int)"
   ]
  },
  {
   "cell_type": "code",
   "execution_count": 17,
   "metadata": {},
   "outputs": [],
   "source": [
    "X_train, X_test, y_train, y_test = train_test_split(X,y, test_size=0.05)"
   ]
  },
  {
   "cell_type": "code",
   "execution_count": 18,
   "metadata": {},
   "outputs": [],
   "source": [
    "from tensorflow.keras.models import Sequential\n",
    "from tensorflow.keras.layers import LSTM, Dense\n",
    "from tensorflow.keras.callbacks import TensorBoard"
   ]
  },
  {
   "cell_type": "code",
   "execution_count": 19,
   "metadata": {},
   "outputs": [],
   "source": [
    "log_dir = os.path.join(\"Logs\")\n",
    "tb_callback = TensorBoard(log_dir=log_dir)"
   ]
  },
  {
   "cell_type": "code",
   "execution_count": 20,
   "metadata": {},
   "outputs": [],
   "source": [
    "model = Sequential()\n",
    "model.add(LSTM(64, return_sequences=True, activation='relu', input_shape=(30,126)))\n",
    "model.add(LSTM(128, return_sequences=True, activation='relu'))\n",
    "model.add(LSTM(64, return_sequences=False, activation='relu'))\n",
    "model.add(Dense(64, activation='relu'))\n",
    "model.add(Dense(32, activation='relu'))\n",
    "model.add(Dense(signs.shape[0], activation='softmax'))"
   ]
  },
  {
   "cell_type": "code",
   "execution_count": 21,
   "metadata": {},
   "outputs": [
    {
     "data": {
      "text/plain": [
       "(350, 30, 126)"
      ]
     },
     "execution_count": 21,
     "metadata": {},
     "output_type": "execute_result"
    }
   ],
   "source": [
    "X.shape"
   ]
  },
  {
   "cell_type": "code",
   "execution_count": 21,
   "metadata": {},
   "outputs": [],
   "source": [
    "model.compile(optimizer='Adam', loss='categorical_crossentropy', metrics=['categorical_accuracy'])"
   ]
  },
  {
   "cell_type": "code",
   "execution_count": 23,
   "metadata": {
    "scrolled": true
   },
   "outputs": [],
   "source": [
    "#model.fit(X_train, y_train, epochs=80, callbacks=[tb_callback])"
   ]
  },
  {
   "cell_type": "code",
   "execution_count": 24,
   "metadata": {},
   "outputs": [
    {
     "name": "stdout",
     "output_type": "stream",
     "text": [
      "_________________________________________________________________\n",
      "Layer (type)                 Output Shape              Param #   \n",
      "=================================================================\n",
      "lstm (LSTM)                  (None, 30, 64)            48896     \n",
      "_________________________________________________________________\n",
      "lstm_1 (LSTM)                (None, 30, 128)           98816     \n",
      "_________________________________________________________________\n",
      "lstm_2 (LSTM)                (None, 64)                49408     \n",
      "_________________________________________________________________\n",
      "dense (Dense)                (None, 64)                4160      \n",
      "_________________________________________________________________\n",
      "dense_1 (Dense)              (None, 32)                2080      \n",
      "_________________________________________________________________\n",
      "dense_2 (Dense)              (None, 7)                 231       \n",
      "=================================================================\n",
      "Total params: 203,591\n",
      "Trainable params: 203,591\n",
      "Non-trainable params: 0\n",
      "_________________________________________________________________\n"
     ]
    }
   ],
   "source": [
    "model.summary()"
   ]
  },
  {
   "cell_type": "code",
   "execution_count": 25,
   "metadata": {},
   "outputs": [],
   "source": [
    "res = model.predict(X_test)"
   ]
  },
  {
   "cell_type": "code",
   "execution_count": 26,
   "metadata": {},
   "outputs": [
    {
     "data": {
      "text/plain": [
       "'Hospital'"
      ]
     },
     "execution_count": 26,
     "metadata": {},
     "output_type": "execute_result"
    }
   ],
   "source": [
    "signs[np.argmax(res[3])]"
   ]
  },
  {
   "cell_type": "code",
   "execution_count": 27,
   "metadata": {},
   "outputs": [
    {
     "data": {
      "text/plain": [
       "'Student'"
      ]
     },
     "execution_count": 27,
     "metadata": {},
     "output_type": "execute_result"
    }
   ],
   "source": [
    "signs[np.argmax(y_test[3])]"
   ]
  },
  {
   "cell_type": "code",
   "execution_count": 28,
   "metadata": {},
   "outputs": [],
   "source": [
    "#model.save('ModelHermes')"
   ]
  },
  {
   "cell_type": "code",
   "execution_count": 22,
   "metadata": {},
   "outputs": [],
   "source": [
    "model.load_weights('ModelHermes')"
   ]
  },
  {
   "cell_type": "code",
   "execution_count": 30,
   "metadata": {},
   "outputs": [],
   "source": [
    "from sklearn.metrics import multilabel_confusion_matrix, accuracy_score"
   ]
  },
  {
   "cell_type": "code",
   "execution_count": 31,
   "metadata": {},
   "outputs": [],
   "source": [
    "yhat = model.predict(X_train)"
   ]
  },
  {
   "cell_type": "code",
   "execution_count": 32,
   "metadata": {},
   "outputs": [],
   "source": [
    "ytrue = np.argmax(y_train, axis=1).tolist()\n",
    "yhat = np.argmax(yhat, axis=1).tolist()"
   ]
  },
  {
   "cell_type": "code",
   "execution_count": 33,
   "metadata": {},
   "outputs": [
    {
     "data": {
      "text/plain": [
       "62938"
      ]
     },
     "execution_count": 33,
     "metadata": {},
     "output_type": "execute_result"
    }
   ],
   "source": [
    "np.argmax(X_test)"
   ]
  },
  {
   "cell_type": "code",
   "execution_count": 34,
   "metadata": {},
   "outputs": [
    {
     "data": {
      "text/plain": [
       "[4,\n",
       " 0,\n",
       " 5,\n",
       " 4,\n",
       " 2,\n",
       " 0,\n",
       " 6,\n",
       " 1,\n",
       " 3,\n",
       " 3,\n",
       " 6,\n",
       " 6,\n",
       " 4,\n",
       " 4,\n",
       " 5,\n",
       " 4,\n",
       " 6,\n",
       " 2,\n",
       " 1,\n",
       " 2,\n",
       " 4,\n",
       " 4,\n",
       " 4,\n",
       " 3,\n",
       " 1,\n",
       " 0,\n",
       " 2,\n",
       " 4,\n",
       " 2,\n",
       " 4,\n",
       " 1,\n",
       " 0,\n",
       " 3,\n",
       " 0,\n",
       " 2,\n",
       " 4,\n",
       " 6,\n",
       " 0,\n",
       " 0,\n",
       " 1,\n",
       " 2,\n",
       " 4,\n",
       " 4,\n",
       " 3,\n",
       " 0,\n",
       " 5,\n",
       " 1,\n",
       " 0,\n",
       " 6,\n",
       " 1,\n",
       " 0,\n",
       " 1,\n",
       " 0,\n",
       " 3,\n",
       " 0,\n",
       " 6,\n",
       " 3,\n",
       " 4,\n",
       " 0,\n",
       " 0,\n",
       " 1,\n",
       " 5,\n",
       " 3,\n",
       " 1,\n",
       " 1,\n",
       " 4,\n",
       " 2,\n",
       " 1,\n",
       " 0,\n",
       " 5,\n",
       " 2,\n",
       " 5,\n",
       " 6,\n",
       " 6,\n",
       " 3,\n",
       " 5,\n",
       " 1,\n",
       " 6,\n",
       " 4,\n",
       " 2,\n",
       " 4,\n",
       " 2,\n",
       " 5,\n",
       " 3,\n",
       " 1,\n",
       " 6,\n",
       " 1,\n",
       " 3,\n",
       " 6,\n",
       " 1,\n",
       " 2,\n",
       " 5,\n",
       " 3,\n",
       " 1,\n",
       " 4,\n",
       " 0,\n",
       " 5,\n",
       " 5,\n",
       " 5,\n",
       " 5,\n",
       " 5,\n",
       " 5,\n",
       " 0,\n",
       " 2,\n",
       " 3,\n",
       " 6,\n",
       " 6,\n",
       " 2,\n",
       " 5,\n",
       " 4,\n",
       " 3,\n",
       " 6,\n",
       " 4,\n",
       " 2,\n",
       " 4,\n",
       " 4,\n",
       " 4,\n",
       " 5,\n",
       " 0,\n",
       " 2,\n",
       " 6,\n",
       " 0,\n",
       " 3,\n",
       " 5,\n",
       " 3,\n",
       " 0,\n",
       " 6,\n",
       " 0,\n",
       " 4,\n",
       " 3,\n",
       " 0,\n",
       " 1,\n",
       " 2,\n",
       " 5,\n",
       " 3,\n",
       " 0,\n",
       " 4,\n",
       " 6,\n",
       " 6,\n",
       " 5,\n",
       " 0,\n",
       " 3,\n",
       " 5,\n",
       " 3,\n",
       " 2,\n",
       " 3,\n",
       " 6,\n",
       " 2,\n",
       " 4,\n",
       " 3,\n",
       " 4,\n",
       " 0,\n",
       " 6,\n",
       " 4,\n",
       " 4,\n",
       " 2,\n",
       " 3,\n",
       " 2,\n",
       " 4,\n",
       " 6,\n",
       " 6,\n",
       " 6,\n",
       " 3,\n",
       " 5,\n",
       " 6,\n",
       " 0,\n",
       " 5,\n",
       " 3,\n",
       " 1,\n",
       " 3,\n",
       " 4,\n",
       " 6,\n",
       " 1,\n",
       " 1,\n",
       " 6,\n",
       " 5,\n",
       " 6,\n",
       " 0,\n",
       " 5,\n",
       " 1,\n",
       " 1,\n",
       " 4,\n",
       " 1,\n",
       " 4,\n",
       " 3,\n",
       " 1,\n",
       " 4,\n",
       " 6,\n",
       " 5,\n",
       " 5,\n",
       " 0,\n",
       " 2,\n",
       " 4,\n",
       " 0,\n",
       " 5,\n",
       " 4,\n",
       " 6,\n",
       " 3,\n",
       " 5,\n",
       " 5,\n",
       " 3,\n",
       " 4,\n",
       " 3,\n",
       " 1,\n",
       " 1,\n",
       " 3,\n",
       " 2,\n",
       " 6,\n",
       " 4,\n",
       " 0,\n",
       " 3,\n",
       " 4,\n",
       " 4,\n",
       " 1,\n",
       " 2,\n",
       " 5,\n",
       " 2,\n",
       " 0,\n",
       " 1,\n",
       " 1,\n",
       " 6,\n",
       " 3,\n",
       " 3,\n",
       " 2,\n",
       " 4,\n",
       " 6,\n",
       " 1,\n",
       " 2,\n",
       " 6,\n",
       " 2,\n",
       " 6,\n",
       " 1,\n",
       " 4,\n",
       " 1,\n",
       " 3,\n",
       " 0,\n",
       " 4,\n",
       " 2,\n",
       " 2,\n",
       " 2,\n",
       " 5,\n",
       " 1,\n",
       " 3,\n",
       " 6,\n",
       " 2,\n",
       " 0,\n",
       " 3,\n",
       " 4,\n",
       " 3,\n",
       " 2,\n",
       " 4,\n",
       " 0,\n",
       " 5,\n",
       " 5,\n",
       " 3,\n",
       " 0,\n",
       " 6,\n",
       " 3,\n",
       " 3,\n",
       " 2,\n",
       " 5,\n",
       " 5,\n",
       " 0,\n",
       " 5,\n",
       " 0,\n",
       " 1,\n",
       " 6,\n",
       " 4,\n",
       " 5,\n",
       " 6,\n",
       " 1,\n",
       " 0,\n",
       " 1,\n",
       " 5,\n",
       " 2,\n",
       " 5,\n",
       " 1,\n",
       " 3,\n",
       " 0,\n",
       " 2,\n",
       " 5,\n",
       " 2,\n",
       " 0,\n",
       " 3,\n",
       " 6,\n",
       " 5,\n",
       " 5,\n",
       " 6,\n",
       " 2,\n",
       " 3,\n",
       " 5,\n",
       " 0,\n",
       " 1,\n",
       " 5,\n",
       " 5,\n",
       " 4,\n",
       " 0,\n",
       " 6,\n",
       " 6,\n",
       " 2,\n",
       " 5,\n",
       " 2,\n",
       " 0,\n",
       " 5,\n",
       " 1,\n",
       " 2,\n",
       " 0,\n",
       " 4,\n",
       " 5,\n",
       " 0,\n",
       " 2,\n",
       " 3,\n",
       " 1,\n",
       " 0,\n",
       " 3,\n",
       " 5,\n",
       " 3,\n",
       " 2,\n",
       " 6,\n",
       " 2,\n",
       " 1,\n",
       " 2,\n",
       " 6,\n",
       " 1,\n",
       " 2,\n",
       " 1,\n",
       " 3,\n",
       " 0,\n",
       " 0,\n",
       " 1,\n",
       " 1,\n",
       " 2]"
      ]
     },
     "execution_count": 34,
     "metadata": {},
     "output_type": "execute_result"
    }
   ],
   "source": [
    "ytrue"
   ]
  },
  {
   "cell_type": "code",
   "execution_count": 35,
   "metadata": {},
   "outputs": [
    {
     "data": {
      "text/plain": [
       "array([[[284,   0],\n",
       "        [  1,  47]],\n",
       "\n",
       "       [[286,   0],\n",
       "        [  1,  45]],\n",
       "\n",
       "       [[285,   0],\n",
       "        [  0,  47]],\n",
       "\n",
       "       [[283,   1],\n",
       "        [  0,  48]],\n",
       "\n",
       "       [[284,   0],\n",
       "        [  1,  47]],\n",
       "\n",
       "       [[282,   0],\n",
       "        [  0,  50]],\n",
       "\n",
       "       [[285,   2],\n",
       "        [  0,  45]]])"
      ]
     },
     "execution_count": 35,
     "metadata": {},
     "output_type": "execute_result"
    }
   ],
   "source": [
    "multilabel_confusion_matrix(ytrue, yhat)"
   ]
  },
  {
   "cell_type": "code",
   "execution_count": 28,
   "metadata": {},
   "outputs": [
    {
     "ename": "NameError",
     "evalue": "name 'accuracy_score' is not defined",
     "output_type": "error",
     "traceback": [
      "\u001b[0;31m---------------------------------------------------------------------------\u001b[0m",
      "\u001b[0;31mNameError\u001b[0m                                 Traceback (most recent call last)",
      "\u001b[0;32m<ipython-input-28-ade6f09f9941>\u001b[0m in \u001b[0;36m<module>\u001b[0;34m\u001b[0m\n\u001b[0;32m----> 1\u001b[0;31m \u001b[0maccuracy_score\u001b[0m\u001b[0;34m(\u001b[0m\u001b[0mytrue\u001b[0m\u001b[0;34m,\u001b[0m\u001b[0myhat\u001b[0m\u001b[0;34m)\u001b[0m\u001b[0;34m\u001b[0m\u001b[0;34m\u001b[0m\u001b[0m\n\u001b[0m",
      "\u001b[0;31mNameError\u001b[0m: name 'accuracy_score' is not defined"
     ]
    }
   ],
   "source": [
    "accuracy_score(ytrue,yhat)"
   ]
  },
  {
   "cell_type": "code",
   "execution_count": 40,
   "metadata": {},
   "outputs": [
    {
     "name": "stdout",
     "output_type": "stream",
     "text": [
      "Doctor\n",
      "Doctor\n",
      "Doctor\n",
      "Doctor\n",
      "Doctor\n",
      "Doctor\n",
      "Doctor\n",
      "Doctor\n",
      "Doctor\n",
      "Doctor\n",
      "Doctor\n",
      "Doctor\n",
      "Doctor\n",
      "Doctor\n",
      "Doctor\n",
      "Doctor\n"
     ]
    }
   ],
   "source": [
    "#test in real time\n",
    "sequence = []\n",
    "sentence = []\n",
    "threshold = 0.96\n",
    "\n",
    "cap = cv2.VideoCapture(0)\n",
    "\n",
    "with mp_holistic.Holistic(min_detection_confidence=0.5, min_tracking_confidence=0.5) as holistic:\n",
    "    while cap.isOpened():\n",
    "        ret, frame = cap.read()\n",
    "\n",
    "        image, results = media_pipe_detection(frame, holistic)\n",
    "        \n",
    "        draw_landmarks(image, results)\n",
    "        \n",
    "        #add result to sequence and once seguence got 30 frames, do the reconition\n",
    "        keypoints = extractPoints(results)\n",
    "        sequence.append(keypoints)\n",
    "        sequence = sequence[-30:]\n",
    "        \n",
    "        if len(sequence) == 30:\n",
    "            res = model.predict(np.expand_dims(sequence, axis=0))[0]\n",
    "            print(signs[np.argmax(res)])\n",
    "            \n",
    "            if res[np.argmax(res)] > threshold:\n",
    "                if len(sentence) > 0:\n",
    "                    if signs[np.argmax(res)] != sentence[-1]:\n",
    "                        sentence.append(signs[np.argmax(res)])\n",
    "                else:\n",
    "                    sentence.append(signs[np.argmax(res)])\n",
    "                \n",
    "        if len(sentence) > 5:\n",
    "            sentence = sentence[-5:]\n",
    "            \n",
    "        cv2.rectangle(image, (0,0), (640, 40), (245, 117, 16), -1)\n",
    "        cv2.putText(image, ' '.join(sentence), (3, 30), cv2.FONT_HERSHEY_SIMPLEX, 1, (255,255,255), 2, cv2.LINE_AA)\n",
    "\n",
    "        cv2.imshow('OpenCV Feed', image)\n",
    "        if cv2.waitKey(10) & 0xFF == ord('q'):\n",
    "            break\n",
    "    cap.release()\n",
    "    cv2.destroyAllWindows()"
   ]
  },
  {
   "cell_type": "code",
   "execution_count": 38,
   "metadata": {},
   "outputs": [],
   "source": [
    "sequence = []\n",
    "sentence = []\n",
    "threshold = 0.7\n",
    "\n",
    "cap = cv2.VideoCapture(0)\n",
    "\n",
    "with mp_holistic.Holistic(min_detection_confidence=0.5, min_tracking_confidence=0.5) as holistic:\n",
    "    while cap.isOpened():\n",
    "        ret, frame = cap.read()\n",
    "\n",
    "        image, results = media_pipe_detection(frame, holistic)\n",
    "        \n",
    "        draw_landmarks(image, results)\n",
    "        \n",
    "        #add result to sequence and once seguence got 30 frames, do the reconition\n",
    "        keypoints = extractPoints(results)\n",
    "        sequence.append(keypoints)\n",
    "        sequence = sequence[-30:]\n",
    "        \n",
    "        if len(sequence) == 30:\n",
    "            res = model.predict(np.expand_dims(sequence, axis=0))[0]\n",
    "            \n",
    "            if res[np.argmax(res)] > threshold:\n",
    "                sentence.append(signs[np.argmax(res)])\n",
    "                cv2.rectangle(image, (0,0), (640, 40), (245, 117, 16), -1)\n",
    "                cv2.putText(image, signs[np.argmax(res)], (3, 30), cv2.FONT_HERSHEY_SIMPLEX, 1, (255,255,255), 2, cv2.LINE_AA)\n",
    "                cv2.imshow('OpenCV Feed', image)\n",
    "                print(signs[np.argmax(res)])\n",
    "                if cv2.waitKey(5000) == ord('t'):\n",
    "                    #the results are correct\n",
    "                    for h in sequence:\n",
    "                        #loop through sequence\n",
    "                        lenofdir = len(os.listdir(os.path.join(DATA_PATH, signs[np.argmax(res)])))\n",
    "                        thepath = os.path.join(DATA_PATH, signs[np.argmax(res)], str(lenofdir))\n",
    "                        os.makedirs(thepath)\n",
    "                        np.save(thepath, h)\n",
    "                    sequence = sequence[:-30]\n",
    "                else:\n",
    "                    sequence = sequence[:-30]\n",
    "                    sentence = sentence[:-1]\n",
    "                \n",
    "        if len(sentence) > 5:\n",
    "            sentence = sentence[-5:]\n",
    "            \n",
    "        cv2.rectangle(image, (0,0), (640, 40), (245, 117, 16), -1)\n",
    "        cv2.putText(image, ' '.join(sentence), (3, 30), cv2.FONT_HERSHEY_SIMPLEX, 1, (255,255,255), 2, cv2.LINE_AA)\n",
    "\n",
    "        cv2.imshow('OpenCV Feed', image)\n",
    "        if cv2.waitKey(10) & 0xFF == ord('q'):\n",
    "            break\n",
    "    cap.release()\n",
    "    cv2.destroyAllWindows()"
   ]
  },
  {
   "cell_type": "code",
   "execution_count": null,
   "id": "ac717531",
   "metadata": {},
   "outputs": [],
   "source": []
  }
 ],
 "metadata": {
  "kernelspec": {
   "display_name": "py_36_env",
   "language": "python",
   "name": "py_36_env"
  },
  "language_info": {
   "codemirror_mode": {
    "name": "ipython",
    "version": 3
   },
   "file_extension": ".py",
   "mimetype": "text/x-python",
   "name": "python",
   "nbconvert_exporter": "python",
   "pygments_lexer": "ipython3",
   "version": "3.8.5"
  }
 },
 "nbformat": 4,
 "nbformat_minor": 5
}
